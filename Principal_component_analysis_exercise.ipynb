{
  "cells": [
    {
      "cell_type": "markdown",
      "metadata": {
        "id": "view-in-github",
        "colab_type": "text"
      },
      "source": [
        "<a href=\"https://colab.research.google.com/github/ElizabethWaithera/unsupervised-learning/blob/main/Principal_component_analysis_exercise.ipynb\" target=\"_parent\"><img src=\"https://colab.research.google.com/assets/colab-badge.svg\" alt=\"Open In Colab\"/></a>"
      ]
    },
    {
      "cell_type": "markdown",
      "metadata": {
        "id": "Ee-v8I_P8rfp"
      },
      "source": [
        "<div align=\"center\" style=\" font-size: 80%; text-align: center; margin: 0 auto\">\n",
        "<img src=\"https://raw.githubusercontent.com/Explore-AI/Pictures/master/Python-Notebook-Banners/Exercise.png\"  style=\"display: block; margin-left: auto; margin-right: auto;\";/>\n",
        "</div>\n",
        "\n",
        "# Exercise: Principal component analysis\n",
        "© ExploreAI Academy\n",
        "\n",
        "In this exercise, we apply PCA to a dataset, evaluate the cumulative variance explained, and determine the appropriate number of components to retain."
      ]
    },
    {
      "cell_type": "markdown",
      "metadata": {
        "id": "ITqrvAqq8xSC"
      },
      "source": [
        "## Learning objectives\n",
        "\n",
        "By the end of this train, you should be able to:\n",
        "* Apply PCA to reduce a dataset’s dimensionality.\n",
        "* Evaluate the cumulative variance explained by each principal component.\n",
        "* Determine the number of components needed to capture at least 85% of the variance."
      ]
    },
    {
      "cell_type": "markdown",
      "metadata": {
        "id": "jsdFrSSBj5yR"
      },
      "source": [
        "## Overview\n",
        "\n",
        "The Digits dataset consists of 1,797 images of handwritten digits, each represented by a 64-dimensional feature vector. The dataset's high dimensionality can pose challenges when visualising and exploring it and could also lead to model complexity.\n",
        "\n",
        "In this exercise, we apply PCA to the Digits dataset and evaluate its ability to reduce the dataset's dimensionality while retaining valuable information."
      ]
    },
    {
      "cell_type": "markdown",
      "metadata": {
        "id": "iTxEKYPlj5yR"
      },
      "source": [
        "## Import libraries"
      ]
    },
    {
      "cell_type": "code",
      "execution_count": 1,
      "metadata": {
        "id": "NLCWqyE9j5yS"
      },
      "outputs": [],
      "source": [
        "import numpy as np\n",
        "import pandas as pd\n",
        "import matplotlib.pyplot as plt\n",
        "from sklearn.datasets import load_digits\n",
        "from sklearn.decomposition import PCA\n",
        "from sklearn.preprocessing import StandardScaler"
      ]
    },
    {
      "cell_type": "markdown",
      "metadata": {
        "id": "4b9_yPj3j5yS"
      },
      "source": [
        "## Load and prepare dataset"
      ]
    },
    {
      "cell_type": "code",
      "execution_count": 2,
      "metadata": {
        "id": "pv0T8g15j5yT"
      },
      "outputs": [],
      "source": [
        "# Load the dataset\n",
        "digits = load_digits()\n",
        "X = digits.data\n",
        "y = digits.target\n",
        "\n",
        "# Standardize the features\n",
        "scaler = StandardScaler()\n",
        "X_scaled = scaler.fit_transform(X)"
      ]
    },
    {
      "cell_type": "markdown",
      "metadata": {
        "id": "aSnEU6loj5yT"
      },
      "source": [
        "## Exercises"
      ]
    },
    {
      "cell_type": "markdown",
      "metadata": {
        "id": "dlX07togj5yT"
      },
      "source": [
        "### Exercise 1\n",
        "\n",
        "To reduce the dataset's dimensionality, let's transform the standardised dataset by applying PCA."
      ]
    },
    {
      "cell_type": "code",
      "execution_count": 3,
      "metadata": {
        "id": "yx2s62FZj5yU"
      },
      "outputs": [],
      "source": [
        "pca = PCA()\n",
        "X_PCA = pca.fit_transform( X_scaled)"
      ]
    },
    {
      "cell_type": "markdown",
      "metadata": {
        "id": "cEpvgTt8j5yU"
      },
      "source": [
        "### Exercise 2\n",
        "\n",
        "To understand which components carry the most information, we can assess how much of the dataset's variance is captured by each principal component.\n",
        "\n",
        "Compute and print the `Explained Variance Ratio` for each principal component formatted to four decimal places."
      ]
    },
    {
      "cell_type": "code",
      "execution_count": 4,
      "metadata": {
        "colab": {
          "base_uri": "https://localhost:8080/"
        },
        "id": "_HM8NKUfj5yU",
        "outputId": "f5797978-0543-41d2-935a-36b7326bbcd7"
      },
      "outputs": [
        {
          "output_type": "stream",
          "name": "stdout",
          "text": [
            "PC1 Explained Variance =  0.120339\n",
            "PC2 Explained Variance =  0.095611\n",
            "PC3 Explained Variance =  0.084444\n",
            "PC4 Explained Variance =  0.064984\n",
            "PC5 Explained Variance =  0.048602\n",
            "PC6 Explained Variance =  0.042141\n",
            "PC7 Explained Variance =  0.039421\n",
            "PC8 Explained Variance =  0.033894\n",
            "PC9 Explained Variance =  0.029982\n",
            "PC10 Explained Variance =  0.029320\n",
            "PC11 Explained Variance =  0.027818\n",
            "PC12 Explained Variance =  0.025771\n",
            "PC13 Explained Variance =  0.022753\n",
            "PC14 Explained Variance =  0.022272\n",
            "PC15 Explained Variance =  0.021652\n",
            "PC16 Explained Variance =  0.019142\n",
            "PC17 Explained Variance =  0.017755\n",
            "PC18 Explained Variance =  0.016381\n",
            "PC19 Explained Variance =  0.015965\n",
            "PC20 Explained Variance =  0.014892\n",
            "PC21 Explained Variance =  0.013480\n",
            "PC22 Explained Variance =  0.012719\n",
            "PC23 Explained Variance =  0.011658\n",
            "PC24 Explained Variance =  0.010576\n",
            "PC25 Explained Variance =  0.009753\n",
            "PC26 Explained Variance =  0.009446\n",
            "PC27 Explained Variance =  0.008630\n",
            "PC28 Explained Variance =  0.008366\n",
            "PC29 Explained Variance =  0.007977\n",
            "PC30 Explained Variance =  0.007465\n",
            "PC31 Explained Variance =  0.007256\n",
            "PC32 Explained Variance =  0.006919\n",
            "PC33 Explained Variance =  0.006539\n",
            "PC34 Explained Variance =  0.006408\n",
            "PC35 Explained Variance =  0.005914\n",
            "PC36 Explained Variance =  0.005712\n",
            "PC37 Explained Variance =  0.005236\n",
            "PC38 Explained Variance =  0.004818\n",
            "PC39 Explained Variance =  0.004537\n",
            "PC40 Explained Variance =  0.004232\n",
            "PC41 Explained Variance =  0.004061\n",
            "PC42 Explained Variance =  0.003971\n",
            "PC43 Explained Variance =  0.003565\n",
            "PC44 Explained Variance =  0.003408\n",
            "PC45 Explained Variance =  0.003278\n",
            "PC46 Explained Variance =  0.003110\n",
            "PC47 Explained Variance =  0.002886\n",
            "PC48 Explained Variance =  0.002765\n",
            "PC49 Explained Variance =  0.002592\n",
            "PC50 Explained Variance =  0.002345\n",
            "PC51 Explained Variance =  0.002183\n",
            "PC52 Explained Variance =  0.002036\n",
            "PC53 Explained Variance =  0.001955\n",
            "PC54 Explained Variance =  0.001833\n",
            "PC55 Explained Variance =  0.001679\n",
            "PC56 Explained Variance =  0.001612\n",
            "PC57 Explained Variance =  0.001478\n",
            "PC58 Explained Variance =  0.001351\n",
            "PC59 Explained Variance =  0.001251\n",
            "PC60 Explained Variance =  0.001037\n",
            "PC61 Explained Variance =  0.000825\n",
            "PC62 Explained Variance =  0.000000\n",
            "PC63 Explained Variance =  0.000000\n",
            "PC64 Explained Variance =  0.000000\n"
          ]
        }
      ],
      "source": [
        "explained_variance_ratio = pca.explained_variance_ratio_\n",
        "\n",
        "for i, ev in enumerate(explained_variance_ratio):\n",
        "    print(f'PC{i+1} Explained Variance = {ev : 4f}')"
      ]
    },
    {
      "cell_type": "markdown",
      "metadata": {
        "id": "kCXCvKrtj5yU"
      },
      "source": [
        "### Exercise 3\n",
        "\n",
        "We can also evaluate how much total variance is captured as components are added incrementally. This can help us get a view of how many components are needed to capture a substantial proportion of the dataset's variance.\n",
        "\n",
        "Determine the cumulative variance ratio by summing the explained variance ratios of each principal component."
      ]
    },
    {
      "cell_type": "code",
      "execution_count": 5,
      "metadata": {
        "colab": {
          "base_uri": "https://localhost:8080/"
        },
        "id": "4fJsdwrYj5yU",
        "outputId": "e49005ab-6787-497d-c03c-2a0bea89589b"
      },
      "outputs": [
        {
          "output_type": "stream",
          "name": "stdout",
          "text": [
            "PC1 The cumulative Variance Ratio  0.120339 \n",
            "PC2 The cumulative Variance Ratio  0.215950 \n",
            "PC3 The cumulative Variance Ratio  0.300394 \n",
            "PC4 The cumulative Variance Ratio  0.365378 \n",
            "PC5 The cumulative Variance Ratio  0.413979 \n",
            "PC6 The cumulative Variance Ratio  0.456121 \n",
            "PC7 The cumulative Variance Ratio  0.495542 \n",
            "PC8 The cumulative Variance Ratio  0.529435 \n",
            "PC9 The cumulative Variance Ratio  0.559418 \n",
            "PC10 The cumulative Variance Ratio  0.588738 \n",
            "PC11 The cumulative Variance Ratio  0.616556 \n",
            "PC12 The cumulative Variance Ratio  0.642326 \n",
            "PC13 The cumulative Variance Ratio  0.665079 \n",
            "PC14 The cumulative Variance Ratio  0.687351 \n",
            "PC15 The cumulative Variance Ratio  0.709003 \n",
            "PC16 The cumulative Variance Ratio  0.728145 \n",
            "PC17 The cumulative Variance Ratio  0.745900 \n",
            "PC18 The cumulative Variance Ratio  0.762281 \n",
            "PC19 The cumulative Variance Ratio  0.778246 \n",
            "PC20 The cumulative Variance Ratio  0.793138 \n",
            "PC21 The cumulative Variance Ratio  0.806617 \n",
            "PC22 The cumulative Variance Ratio  0.819337 \n",
            "PC23 The cumulative Variance Ratio  0.830995 \n",
            "PC24 The cumulative Variance Ratio  0.841571 \n",
            "PC25 The cumulative Variance Ratio  0.851325 \n",
            "PC26 The cumulative Variance Ratio  0.860770 \n",
            "PC27 The cumulative Variance Ratio  0.869400 \n",
            "PC28 The cumulative Variance Ratio  0.877767 \n",
            "PC29 The cumulative Variance Ratio  0.885744 \n",
            "PC30 The cumulative Variance Ratio  0.893208 \n",
            "PC31 The cumulative Variance Ratio  0.900464 \n",
            "PC32 The cumulative Variance Ratio  0.907383 \n",
            "PC33 The cumulative Variance Ratio  0.913922 \n",
            "PC34 The cumulative Variance Ratio  0.920330 \n",
            "PC35 The cumulative Variance Ratio  0.926244 \n",
            "PC36 The cumulative Variance Ratio  0.931956 \n",
            "PC37 The cumulative Variance Ratio  0.937192 \n",
            "PC38 The cumulative Variance Ratio  0.942010 \n",
            "PC39 The cumulative Variance Ratio  0.946547 \n",
            "PC40 The cumulative Variance Ratio  0.950779 \n",
            "PC41 The cumulative Variance Ratio  0.954840 \n",
            "PC42 The cumulative Variance Ratio  0.958810 \n",
            "PC43 The cumulative Variance Ratio  0.962375 \n",
            "PC44 The cumulative Variance Ratio  0.965783 \n",
            "PC45 The cumulative Variance Ratio  0.969062 \n",
            "PC46 The cumulative Variance Ratio  0.972172 \n",
            "PC47 The cumulative Variance Ratio  0.975058 \n",
            "PC48 The cumulative Variance Ratio  0.977823 \n",
            "PC49 The cumulative Variance Ratio  0.980414 \n",
            "PC50 The cumulative Variance Ratio  0.982759 \n",
            "PC51 The cumulative Variance Ratio  0.984942 \n",
            "PC52 The cumulative Variance Ratio  0.986978 \n",
            "PC53 The cumulative Variance Ratio  0.988933 \n",
            "PC54 The cumulative Variance Ratio  0.990766 \n",
            "PC55 The cumulative Variance Ratio  0.992446 \n",
            "PC56 The cumulative Variance Ratio  0.994058 \n",
            "PC57 The cumulative Variance Ratio  0.995536 \n",
            "PC58 The cumulative Variance Ratio  0.996887 \n",
            "PC59 The cumulative Variance Ratio  0.998138 \n",
            "PC60 The cumulative Variance Ratio  0.999175 \n",
            "PC61 The cumulative Variance Ratio  1.000000 \n",
            "PC62 The cumulative Variance Ratio  1.000000 \n",
            "PC63 The cumulative Variance Ratio  1.000000 \n",
            "PC64 The cumulative Variance Ratio  1.000000 \n"
          ]
        }
      ],
      "source": [
        "cumulative_variance_ratio = np.cumsum(explained_variance_ratio)\n",
        "\n",
        "for i, cv in enumerate(cumulative_variance_ratio):\n",
        "    print(f'PC{i+1} The cumulative Variance Ratio {cv: 4f} ')"
      ]
    },
    {
      "cell_type": "markdown",
      "metadata": {
        "id": "pK0fFa3mj5yU"
      },
      "source": [
        "### Exercise 4\n",
        "\n",
        "Based on the results from **Exercise 3**, determine how many components are needed to capture at least 85% of the total variance.\n",
        "\n",
        "Discuss the impact of this on subsequent analysis or modeling."
      ]
    },
    {
      "cell_type": "markdown",
      "metadata": {
        "id": "Edjj82Z4j5yV"
      },
      "source": [
        "## Solutions"
      ]
    },
    {
      "cell_type": "markdown",
      "metadata": {
        "id": "ZfDfX5KAj5yV"
      },
      "source": [
        "### Exercise 1"
      ]
    },
    {
      "cell_type": "code",
      "execution_count": null,
      "metadata": {
        "id": "5AMPz8YWj5yV"
      },
      "outputs": [],
      "source": [
        "# Apply PCA\n",
        "pca = PCA()\n",
        "X_pca = pca.fit_transform(X_scaled)"
      ]
    },
    {
      "cell_type": "markdown",
      "metadata": {
        "id": "VH4sEsOkj5yV"
      },
      "source": [
        "### Exercise 2"
      ]
    },
    {
      "cell_type": "code",
      "execution_count": null,
      "metadata": {
        "id": "1xl_fcPcj5yV"
      },
      "outputs": [],
      "source": [
        "# Get the explained variance ratio\n",
        "explained_variance_ratio = pca.explained_variance_ratio_\n",
        "\n",
        "# Print the explained variance ratio\n",
        "for i, ev in enumerate(explained_variance_ratio):\n",
        "    print(f\"PC{i+1}: Explained Variance = {ev:.4f}\")"
      ]
    },
    {
      "cell_type": "markdown",
      "metadata": {
        "id": "49ehwGfKj5yV"
      },
      "source": [
        "The explained variance ratios show that the first few principal components (PC1, PC2, PC3) capture the most variance, with PC1 accounting for 12.03%. As we move to higher components, the explained variance decreases, indicating they carry less information about the dataset's overall variance."
      ]
    },
    {
      "cell_type": "markdown",
      "metadata": {
        "id": "V12Q2ssVj5yV"
      },
      "source": [
        "### Exercise 3"
      ]
    },
    {
      "cell_type": "code",
      "execution_count": null,
      "metadata": {
        "id": "JnB9eLsxj5yV"
      },
      "outputs": [],
      "source": [
        "# Calculate the cumulative variance ratio\n",
        "cumulative_variance_ratio = np.cumsum(explained_variance_ratio)\n",
        "\n",
        "# Print the cumulative variance ratio\n",
        "for i, cv in enumerate(cumulative_variance_ratio):\n",
        "    print(f\"PC{i+1}: Cumulative Variance = {cv:.4f}\")"
      ]
    },
    {
      "cell_type": "markdown",
      "metadata": {
        "id": "LyMeZkeSj5yV"
      },
      "source": [
        "The results show that each additional principal component captures more variance. For example, PC1 captures 12.03%, and by PC10, 58.87% is captured. All 64 components capture 100% variance. This helps identify how many components are needed to capture a significant portion of the dataset's variance."
      ]
    },
    {
      "cell_type": "markdown",
      "metadata": {
        "id": "V0vBtGCSj5yW"
      },
      "source": [
        "### Exercise 4"
      ]
    },
    {
      "cell_type": "markdown",
      "metadata": {
        "id": "t72KINbQj5yW"
      },
      "source": [
        "The cumulative variance ratio shows that to reach at least 85% cumulative variance, 25 components are needed.\n",
        "\n",
        "We observe that by retaining the first 25 components, we can capture 85.13% of the total variance in the dataset, which significantly reduces the dataset's dimensionality while retaining most of its information.\n",
        "\n",
        "Using 25 components instead of the original 64 simplifies any downstream models by reducing their feature space, potentially improving model performance and interpretability.\n",
        "\n",
        "The reduced number of components also makes visualising the data easier, which can provide meaningful insights into class separations or clustering.\n",
        "\n",
        "Therefore, the ability to capture over 85% of the variance with 25 components makes PCA a viable dimensionality reduction technique for this dataset, preserving most information while simplifying further analyses."
      ]
    },
    {
      "cell_type": "markdown",
      "metadata": {
        "id": "g6gJbK5tj5yW"
      },
      "source": [
        "<div align=\"center\" style=\" font-size: 80%; text-align: center; margin: 0 auto\">\n",
        "<img src=\"https://raw.githubusercontent.com/Explore-AI/Pictures/master/ExploreAI_logos/EAI_Blue_Dark.png\"  style=\"width:200px\";/>\n",
        "</div>"
      ]
    }
  ],
  "metadata": {
    "colab": {
      "provenance": [],
      "include_colab_link": true
    },
    "interpreter": {
      "hash": "6b5ebbc2c6bde2831bc6c0426f75aca8137ccfc69d329557556ed73faee126ae"
    },
    "kernelspec": {
      "display_name": "Python 3 (ipykernel)",
      "language": "python",
      "name": "python3"
    },
    "language_info": {
      "codemirror_mode": {
        "name": "ipython",
        "version": 3
      },
      "file_extension": ".py",
      "mimetype": "text/x-python",
      "name": "python",
      "nbconvert_exporter": "python",
      "pygments_lexer": "ipython3",
      "version": "3.11.4"
    }
  },
  "nbformat": 4,
  "nbformat_minor": 0
}